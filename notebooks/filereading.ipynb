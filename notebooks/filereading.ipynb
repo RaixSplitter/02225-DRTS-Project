{
 "cells": [
  {
   "cell_type": "code",
   "execution_count": 7,
   "id": "3376ac59",
   "metadata": {},
   "outputs": [],
   "source": [
    "from simsystem.objects import Core, Component, Task\n",
    "import pandas as pd\n",
    "\n",
    "\n",
    "class Input_Model:\n",
    "    @staticmethod\n",
    "    def read_architecture(filepath : str) -> dict[str, Core]:\n",
    "        \"\"\"\n",
    "        Reads the architecture case file and instantiates the Cores\n",
    "        \"\"\"\n",
    "        \n",
    "        df = pd.read_csv(filepath, sep=\",\")\n",
    "        \n",
    "        return df\n",
    "    \n",
    "    @staticmethod\n",
    "    def read_budgets(filepath : str) -> dict[str, Component]:\n",
    "        \"\"\"\n",
    "        Reads the budget case file and instantiates the Components\n",
    "        \"\"\"\n",
    "\n",
    "        return NotImplementedError()\n",
    "        \n",
    "        \n",
    "    @staticmethod\n",
    "    def read_tasks(filepath : str) -> dict[str, Task]:\n",
    "        \"\"\"\n",
    "        Reads the task case file and instantiates the Tasks\n",
    "        \"\"\"\n",
    "\n",
    "        return NotImplementedError()\n",
    "\n",
    "\n",
    "\n",
    "\n",
    "\n"
   ]
  },
  {
   "cell_type": "code",
   "execution_count": 10,
   "id": "f903cb43",
   "metadata": {},
   "outputs": [],
   "source": [
    "df = pd.read_csv(\"C:/Programmering/02225-DRTS-Project/test-cases/3-medium-test-case/architecture.csv\", sep=\",\")\n",
    "\n",
    "cores = {}\n",
    "for _, row in df.iterrows():\n",
    "    core = Core(core_id=row['core_id'], speed_factor=row['speed_factor'], scheduler=row['scheduler'])\n",
    "    cores[row['core_id']] = core\n",
    "    "
   ]
  },
  {
   "cell_type": "code",
   "execution_count": 11,
   "id": "ff8e3540",
   "metadata": {},
   "outputs": [
    {
     "data": {
      "text/plain": [
       "{'Core_1': Core(core_id='Core_1', speed_factor=1.49, scheduler='EDF'),\n",
       " 'Core_2': Core(core_id='Core_2', speed_factor=0.62, scheduler='EDF')}"
      ]
     },
     "execution_count": 11,
     "metadata": {},
     "output_type": "execute_result"
    }
   ],
   "source": [
    "cores"
   ]
  }
 ],
 "metadata": {
  "kernelspec": {
   "display_name": ".venv",
   "language": "python",
   "name": "python3"
  },
  "language_info": {
   "codemirror_mode": {
    "name": "ipython",
    "version": 3
   },
   "file_extension": ".py",
   "mimetype": "text/x-python",
   "name": "python",
   "nbconvert_exporter": "python",
   "pygments_lexer": "ipython3",
   "version": "3.12.4"
  }
 },
 "nbformat": 4,
 "nbformat_minor": 5
}
